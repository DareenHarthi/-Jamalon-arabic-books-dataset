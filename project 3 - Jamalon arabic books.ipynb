{
 "cells": [
  {
   "cell_type": "markdown",
   "metadata": {},
   "source": [
    "# Project 3: Sharing Dataset on Kaggle"
   ]
  },
  {
   "cell_type": "markdown",
   "metadata": {},
   "source": [
    "![](books.jpg)"
   ]
  },
  {
   "cell_type": "markdown",
   "metadata": {},
   "source": [
    "Jamalon is the largest online bookstore in the Middle East, offering more than 9.5 million titles of Arabic and English books with home delivery. This dataset contains a wide collection of Arabic books in different fields of different categories.<br><a href = 'https://www.kaggle.com/dareenalharthi/jamalon-arabic-books-dataset'>Click</a> to see  Jamalon arabic books dataset on Kaggle."
   ]
  },
  {
   "cell_type": "code",
   "execution_count": 3,
   "metadata": {},
   "outputs": [],
   "source": [
    "\n",
    "import re\n",
    "import requests\n",
    "import pandas as pd\n",
    "import numpy as np\n",
    "import arabic_reshaper\n",
    "from bidi.algorithm import get_display\n",
    "from bs4 import BeautifulSoup\n",
    "from time import sleep\n",
    "import matplotlib.pyplot as plt\n",
    "import seaborn as sns\n",
    "from selenium import webdriver\n",
    "from selenium.webdriver.support.ui import WebDriverWait\n",
    "%matplotlib inline"
   ]
  },
  {
   "cell_type": "markdown",
   "metadata": {},
   "source": [
    "## Request Jamalon bookstore arabic books HTML page\n"
   ]
  },
  {
   "cell_type": "code",
   "execution_count": 4,
   "metadata": {},
   "outputs": [],
   "source": [
    "# Download Jamalon bookstore arabic books HTML page\n",
    "response = requests.get(\"https://jamalon.com/ar/books\")"
   ]
  },
  {
   "cell_type": "code",
   "execution_count": 5,
   "metadata": {},
   "outputs": [
    {
     "data": {
      "text/plain": [
       "200"
      ]
     },
     "execution_count": 5,
     "metadata": {},
     "output_type": "execute_result"
    }
   ],
   "source": [
    "# Check the response code to make sure that the request was successfully received\n",
    "response.status_code"
   ]
  },
  {
   "cell_type": "code",
   "execution_count": 6,
   "metadata": {},
   "outputs": [],
   "source": [
    "# Save the returned HTML page \n",
    "html = response.text"
   ]
  },
  {
   "cell_type": "code",
   "execution_count": 7,
   "metadata": {},
   "outputs": [],
   "source": [
    "# Create object from BeautifulSoup for Jamalon bookstore arabic books HTML page\n",
    "soup = BeautifulSoup(html, \"lxml\")"
   ]
  },
  {
   "cell_type": "code",
   "execution_count": 8,
   "metadata": {},
   "outputs": [],
   "source": [
    "# Extract the categories menu and links from Jamalon HTML page and save it as a list of categories\n",
    "book_categories_html = soup.find_all(\"div\", attrs={\"class\":\"panel panel-default\"})"
   ]
  },
  {
   "cell_type": "code",
   "execution_count": 9,
   "metadata": {},
   "outputs": [],
   "source": [
    "'''This dictionary will hold the category name as a key and the value will be another dictionary that has subcategories \n",
    "names as keys, and the book subcategory URL as values that contains all books from this subcategory'''\n",
    "book_categories = {}\n",
    "# Arabic books categories started from 13, from 0 to 12 are English books categories \n",
    "for category in book_categories_html[13:]:\n",
    "    # Create object from BeautifulSoup for category element in \"book_categories_html\" list\n",
    "    soup_categ = BeautifulSoup(str(category), \"lxml\")\n",
    "    # Extract the category name and save it\n",
    "    categ_name = re.search(\">(.*)[^</span>]\",str(soup_categ.find(\"h4\").find(\"span\"))).group(1).strip(\" \")\n",
    "    # Find all subcategories of the current category and save it in the \"subcategories\" list\n",
    "    subcategories = soup_categ.find_all(\"ul\", attrs={\"class\":\"list-unstyled\"})\n",
    "    book_categories[str(categ_name)]={}\n",
    "    ''' For each subcategory find the URL that contains all books from this subcategory and store the \n",
    "    subcategory name as key and the URL as a value'''\n",
    "    for sub in subcategories:\n",
    "        ls = re.search(\"a href=(.*) \",str(sub.find(\"a\"))).group(1).split(\">\")\n",
    "        # Subcategory URL\n",
    "        ls[0] = ls[0].strip('\"')\n",
    "        # Subcategory name\n",
    "        ls[1] = ls[1].split(\"<\")[0].strip(\" \").replace(\"\\xa0\",\"\")\n",
    "        book_categories[categ_name][str(ls[1].strip(\" \"))]=ls[0]\n",
    "        "
   ]
  },
  {
   "cell_type": "markdown",
   "metadata": {},
   "source": [
    "## Scrape the Arabic books data from Jamalon bookstore website"
   ]
  },
  {
   "cell_type": "code",
   "execution_count": null,
   "metadata": {
    "scrolled": true
   },
   "outputs": [],
   "source": [
    "'''This dictionary will hold the category name as a key and the value will be another dictionary that has subcategories \n",
    "    names as keys, and for each subcategory the value will be a dictionary of all books information,\n",
    "    the dictionary will look like this:\n",
    "    books_data = {\"Category name\":{\n",
    "                 \"subcategory name\":{\n",
    "                 1:{\n",
    "                            \"Title\":title,\n",
    "                            \"Author\":author,\n",
    "                            \"Description\":description,\n",
    "                            \"Pages\":pages, \n",
    "                            \"Publication year\":year,\n",
    "                            \"Publisher\":Publisher,\n",
    "                            \"Cover\":cover,\n",
    "                            \"Price\":price}\n",
    "                 },\n",
    "                 2:{\n",
    "                            \"Title\":title,\n",
    "                            \"Author\":author,\n",
    "                            \"Description\":description,\n",
    "                            \"Pages\":pages, \n",
    "                            \"Publication year\":year,\n",
    "                            \"Publisher\":Publisher,\n",
    "                            \"Cover\":cover,\n",
    "                            \"Price\":price}\n",
    "                 }, etc ... \n",
    "                }} '''\n",
    "books_data = {}\n",
    "for category in book_categories:\n",
    "    books_data[category] = {}\n",
    "    for sub_cat in book_categories[category]:\n",
    "        book_id = 1\n",
    "        books_data[category][sub_cat]={}\n",
    "        # Request the subcategory page to get books information\n",
    "        url = book_categories[category][sub_cat]    \n",
    "        driver = webdriver.Chrome(executable_path='chromedriver/chromedriver.exe')\n",
    "        driver.get(url)\n",
    "        # Take the next page button index to go through books pages \n",
    "        try:\n",
    "            ul = driver.find_element_by_class_name('pagination')\n",
    "            index = len(ul.find_elements_by_tag_name('li'))\n",
    "            next_btn_index = index\n",
    "        except:\n",
    "            pass\n",
    "        # The maximum number of pages will be 15\n",
    "        page_num = 1\n",
    "        pages_limit= 15\n",
    "        '''Driver will go through each subcategory books page and click each book card in the page to go to book information page then \n",
    "        store the book information in \"books_data\" dictionary, then return to the subcategory books page, this operation will\n",
    "        be repeated until reach page 15 or last page (if the number of pages less than 15)'''\n",
    "        while page_num<= pages_limit :\n",
    "            try:\n",
    "                rows = driver.find_element_by_class_name(\"list\").find_elements_by_class_name('row')\n",
    "            except:\n",
    "                driver.back()\n",
    "            # Rows contain all the rows in subcategory books page, each row contain three books cards\n",
    "            rows_size = len(rows)\n",
    "            for i in range(rows_size):\n",
    "                row = driver.find_element_by_class_name(\"list\").find_elements_by_class_name('row')[i]\n",
    "                books = row.find_elements_by_class_name(\"col-sm-4\")\n",
    "                books_size = len(books)\n",
    "                # Click each book card and store the book information in \"books_data\" dictionary\n",
    "                for j in range(books_size):\n",
    "                    row = driver.find_element_by_class_name(\"list\").find_elements_by_class_name('row')[i]\n",
    "                    book = row.find_elements_by_class_name(\"col-sm-4\")[j]\n",
    "                    book.click()\n",
    "                    html = driver.page_source\n",
    "                    soup = BeautifulSoup(str(html), \"lxml\")\n",
    "                    div = soup.find(\"div\", attrs={\"class\":\"col-lg-8\"})\n",
    "                    title = \" \".join(div.find(\"h1\").get_text().split())\n",
    "                    price = div.find(\"span\", attrs ={ \"class\":\"num\"}).get_text().replace(\" \",\"\")\n",
    "                    try:\n",
    "                        description = \" \".join(div.find(\"span\",attrs={ \"class\":\"more\"}).get_text().split())\n",
    "                        description2 =  \" \".join(div.find(\"span\",attrs={ \"class\":\"morecontent\"}).find(\"span\").get_text().split())\n",
    "                        description = description.replace(\"...\",\"\")\n",
    "                        description+= description2.strip()\n",
    "                    except:\n",
    "                        description = None\n",
    "                    book_info = div.find(\"div\", attrs={\"class\":\"col-lg-4\" }).find_all(\"li\", attrs={\"class\":\"attr-data\"})\n",
    "                    author = book_info[2].get_text()\n",
    "                    pages = book_info[3].get_text()\n",
    "                    year = book_info[4].get_text()\n",
    "                    Publisher = book_info[5].get_text()\n",
    "                    cover = book_info[6].get_text()\n",
    "                    books_data[category][sub_cat][book_id]={\n",
    "                            \"Title\":title,\n",
    "                            \"Author\":author,\n",
    "                            \"Description\":description,\n",
    "                            \"Pages\":pages, \n",
    "                            \"Publication year\":year,\n",
    "                            \"Publisher\":Publisher,\n",
    "                            \"Cover\":cover,\n",
    "                            \"Price\":price}\n",
    "                    book_id+=1\n",
    "                    WebDriverWait(driver, 10)\n",
    "                    # Return to subcategory books page\n",
    "                    driver.back() \n",
    "                    WebDriverWait(driver, 10)\n",
    "            page_num+=1\n",
    "            # Go to the next page\n",
    "            try:\n",
    "                driver.find_element_by_xpath('//*[@id=\"content\"]/section/div/div/div[2]/section[2]/div[1]/div/ul/li[{}]/a'.format(next_btn_index)).click()\n",
    "                next_btn_index = index+1\n",
    "            except:\n",
    "                break\n",
    "    \n",
    "        driver.close()"
   ]
  },
  {
   "cell_type": "code",
   "execution_count": 182,
   "metadata": {},
   "outputs": [],
   "source": [
    "# Change \"books data\" dictionary format to convert it to dataframe\n",
    "# The keys are the names of the columns in the dataFrame\n",
    "books_df_format = {\"Title\":[],\n",
    "                    \"Author\":[],\n",
    "                    \"Description\":[],\n",
    "                    \"Pages\":[], \n",
    "                    \"Publication year\":[],\n",
    "                    \"Publisher\":[],\n",
    "                    \"Cover\":[],\n",
    "                    \"Category\":[], \n",
    "                    \"Subcategory\":[],\n",
    "                    \"Price\":[] }\n",
    "                           "
   ]
  },
  {
   "cell_type": "code",
   "execution_count": 589,
   "metadata": {},
   "outputs": [],
   "source": [
    "# Store books information in \"books_df_format\"\n",
    "for categ in books_data.keys():\n",
    "    for sub_categ in books_data[categ].keys():\n",
    "        for book_id in books_data[categ][sub_categ].keys():\n",
    "            books_df_format['Category'].append(categ)\n",
    "            books_df_format['Subcategory'].append(sub_categ)\n",
    "            books_df_format[\"Title\"].append(books_data[categ][sub_categ][book_id]['Title'])\n",
    "            books_df_format[\"Author\"].append(books_data[categ][sub_categ][book_id]['Author'])\n",
    "            books_df_format[\"Description\"].append(books_data[categ][sub_categ][book_id]['Description'])\n",
    "            books_df_format[\"Pages\"].append(books_data[categ][sub_categ][book_id]['Pages'])\n",
    "            books_df_format[\"Publication year\"].append(books_data[categ][sub_categ][book_id]['Publication year'])\n",
    "            books_df_format[\"Publisher\"].append(books_data[categ][sub_categ][book_id]['Publisher'])\n",
    "            books_df_format [\"Cover\"].append(books_data[categ][sub_categ][book_id]['Cover'])\n",
    "            books_df_format[\"Price\"].append(books_data[categ][sub_categ][book_id]['Price'])\n",
    "            "
   ]
  },
  {
   "cell_type": "code",
   "execution_count": 821,
   "metadata": {},
   "outputs": [],
   "source": [
    "# Create DataFrame \n",
    "books_df = pd.DataFrame(books_df_format)"
   ]
  },
  {
   "cell_type": "markdown",
   "metadata": {},
   "source": [
    "# Data cleaning"
   ]
  },
  {
   "cell_type": "code",
   "execution_count": 823,
   "metadata": {},
   "outputs": [
    {
     "data": {
      "text/html": [
       "<div>\n",
       "<style scoped>\n",
       "    .dataframe tbody tr th:only-of-type {\n",
       "        vertical-align: middle;\n",
       "    }\n",
       "\n",
       "    .dataframe tbody tr th {\n",
       "        vertical-align: top;\n",
       "    }\n",
       "\n",
       "    .dataframe thead th {\n",
       "        text-align: right;\n",
       "    }\n",
       "</style>\n",
       "<table border=\"1\" class=\"dataframe\">\n",
       "  <thead>\n",
       "    <tr style=\"text-align: right;\">\n",
       "      <th></th>\n",
       "      <th>Title</th>\n",
       "      <th>Author</th>\n",
       "      <th>Description</th>\n",
       "      <th>Pages</th>\n",
       "      <th>Publication year</th>\n",
       "      <th>Publisher</th>\n",
       "      <th>Cover</th>\n",
       "      <th>Category</th>\n",
       "      <th>Subcategory</th>\n",
       "      <th>Price</th>\n",
       "    </tr>\n",
       "  </thead>\n",
       "  <tbody>\n",
       "    <tr>\n",
       "      <th>0</th>\n",
       "      <td>فى فقه الصراع على القدس وفلسطين</td>\n",
       "      <td>محمد عمارة</td>\n",
       "      <td>الإسلامية كانت القدس رمز الصراع وبوابة الانتص...</td>\n",
       "      <td>180</td>\n",
       "      <td>2006</td>\n",
       "      <td>دار الشروق – مصر</td>\n",
       "      <td>غلاف ورقي</td>\n",
       "      <td>الأدب والخيال</td>\n",
       "      <td>الأدب الإسلامي</td>\n",
       "      <td>SR15.00</td>\n",
       "    </tr>\n",
       "    <tr>\n",
       "      <th>1</th>\n",
       "      <td>الرد على شبهات المستشرقين في السيرة النبوية(3)</td>\n",
       "      <td>محمد بن عبد الرزاق اسود</td>\n",
       "      <td>None</td>\n",
       "      <td>86</td>\n",
       "      <td>2017</td>\n",
       "      <td>دار طيبة للنشر والتوزيع</td>\n",
       "      <td>غلاف ورقي</td>\n",
       "      <td>الأدب والخيال</td>\n",
       "      <td>الأدب الإسلامي</td>\n",
       "      <td>SR15.00</td>\n",
       "    </tr>\n",
       "    <tr>\n",
       "      <th>2</th>\n",
       "      <td>القصص التربوية عند الشيخ محمد تقي فلسفي</td>\n",
       "      <td>لطيف الراشدي</td>\n",
       "      <td>None</td>\n",
       "      <td>420</td>\n",
       "      <td>6-1-2004</td>\n",
       "      <td>دار الكاتب العربي للطباعة والنشر</td>\n",
       "      <td>غلاف كرتوني</td>\n",
       "      <td>الأدب والخيال</td>\n",
       "      <td>الأدب الإسلامي</td>\n",
       "      <td>SR37.50</td>\n",
       "    </tr>\n",
       "    <tr>\n",
       "      <th>3</th>\n",
       "      <td>باب السلام</td>\n",
       "      <td>الأستاذ الدكتور عبدالوهاب إبراهيم أبو سليمان</td>\n",
       "      <td>None</td>\n",
       "      <td>494</td>\n",
       "      <td>2013</td>\n",
       "      <td>تارة الدولية</td>\n",
       "      <td>غلاف ورقي</td>\n",
       "      <td>الأدب والخيال</td>\n",
       "      <td>الأدب الإسلامي</td>\n",
       "      <td>SR100.02</td>\n",
       "    </tr>\n",
       "    <tr>\n",
       "      <th>4</th>\n",
       "      <td>تسبيح الروح</td>\n",
       "      <td>طراد حمادة</td>\n",
       "      <td>None</td>\n",
       "      <td>144</td>\n",
       "      <td>11-1-2002</td>\n",
       "      <td>دار العلم للطباعة والنشر والتوزيع</td>\n",
       "      <td>غلاف عادي</td>\n",
       "      <td>الأدب والخيال</td>\n",
       "      <td>الأدب الإسلامي</td>\n",
       "      <td>SR18.75</td>\n",
       "    </tr>\n",
       "  </tbody>\n",
       "</table>\n",
       "</div>"
      ],
      "text/plain": [
       "                                             Title  \\\n",
       "0                  فى فقه الصراع على القدس وفلسطين   \n",
       "1   الرد على شبهات المستشرقين في السيرة النبوية(3)   \n",
       "2          القصص التربوية عند الشيخ محمد تقي فلسفي   \n",
       "3                                       باب السلام   \n",
       "4                                      تسبيح الروح   \n",
       "\n",
       "                                          Author  \\\n",
       "0                                     محمد عمارة   \n",
       "1                        محمد بن عبد الرزاق اسود   \n",
       "2                                   لطيف الراشدي   \n",
       "3   الأستاذ الدكتور عبدالوهاب إبراهيم أبو سليمان   \n",
       "4                                     طراد حمادة   \n",
       "\n",
       "                                         Description Pages Publication year  \\\n",
       "0   الإسلامية كانت القدس رمز الصراع وبوابة الانتص...   180             2006   \n",
       "1                                               None    86             2017   \n",
       "2                                               None   420         6-1-2004   \n",
       "3                                               None   494             2013   \n",
       "4                                               None   144        11-1-2002   \n",
       "\n",
       "                            Publisher         Cover       Category  \\\n",
       "0                    دار الشروق – مصر     غلاف ورقي  الأدب والخيال   \n",
       "1             دار طيبة للنشر والتوزيع     غلاف ورقي  الأدب والخيال   \n",
       "2    دار الكاتب العربي للطباعة والنشر   غلاف كرتوني  الأدب والخيال   \n",
       "3                        تارة الدولية     غلاف ورقي  الأدب والخيال   \n",
       "4   دار العلم للطباعة والنشر والتوزيع     غلاف عادي  الأدب والخيال   \n",
       "\n",
       "      Subcategory      Price  \n",
       "0  الأدب الإسلامي    SR15.00  \n",
       "1  الأدب الإسلامي    SR15.00  \n",
       "2  الأدب الإسلامي    SR37.50  \n",
       "3  الأدب الإسلامي   SR100.02  \n",
       "4  الأدب الإسلامي    SR18.75  "
      ]
     },
     "execution_count": 823,
     "metadata": {},
     "output_type": "execute_result"
    }
   ],
   "source": [
    "books_df.head()"
   ]
  },
  {
   "cell_type": "code",
   "execution_count": 824,
   "metadata": {},
   "outputs": [
    {
     "data": {
      "text/plain": [
       "Title                 0\n",
       "Author                0\n",
       "Description         575\n",
       "Pages                 0\n",
       "Publication year      1\n",
       "Publisher             1\n",
       "Cover                 1\n",
       "Category              0\n",
       "Subcategory           0\n",
       "Price                 1\n",
       "dtype: int64"
      ]
     },
     "execution_count": 824,
     "metadata": {},
     "output_type": "execute_result"
    }
   ],
   "source": [
    "# Replace the empty cells with nan value to detect the null cells\n",
    "books_df.replace('^\\s+$', np.nan, inplace=True)\n",
    "books_df.isnull().sum()"
   ]
  },
  {
   "cell_type": "code",
   "execution_count": 825,
   "metadata": {},
   "outputs": [
    {
     "name": "stdout",
     "output_type": "stream",
     "text": [
      "<class 'pandas.core.frame.DataFrame'>\n",
      "Int64Index: 10969 entries, 0 to 11003\n",
      "Data columns (total 10 columns):\n",
      "Title               10969 non-null object\n",
      "Author              10969 non-null object\n",
      "Description         10394 non-null object\n",
      "Pages               10969 non-null object\n",
      "Publication year    10968 non-null object\n",
      "Publisher           10968 non-null object\n",
      "Cover               10968 non-null object\n",
      "Category            10969 non-null object\n",
      "Subcategory         10969 non-null object\n",
      "Price               10968 non-null object\n",
      "dtypes: object(10)\n",
      "memory usage: 942.6+ KB\n"
     ]
    }
   ],
   "source": [
    "books_df.info()"
   ]
  },
  {
   "cell_type": "markdown",
   "metadata": {},
   "source": [
    "The type of Price, Pages and Publication year columns should be numaric not objects."
   ]
  },
  {
   "cell_type": "code",
   "execution_count": 826,
   "metadata": {},
   "outputs": [
    {
     "data": {
      "text/plain": [
       "(10969, 10)"
      ]
     },
     "execution_count": 826,
     "metadata": {},
     "output_type": "execute_result"
    }
   ],
   "source": [
    "books_df.shape"
   ]
  },
  {
   "cell_type": "code",
   "execution_count": 827,
   "metadata": {},
   "outputs": [],
   "source": [
    "# Change the type of Price column from object to float\n",
    "def clean_price (x):\n",
    "    try:\n",
    "        # Replace any character with empty string then change the type to float\n",
    "        return float(re.sub('[A-Z|a-z]','',x))\n",
    "    except:\n",
    "        return None\n",
    "books_df.Price = books_df.Price.map(clean_price)"
   ]
  },
  {
   "cell_type": "code",
   "execution_count": 828,
   "metadata": {},
   "outputs": [],
   "source": [
    "# Drop all the books that don't have price  \n",
    "books_df = books_df[~(books_df['Price'].isnull())]"
   ]
  },
  {
   "cell_type": "code",
   "execution_count": 829,
   "metadata": {},
   "outputs": [
    {
     "data": {
      "text/plain": [
       "(8986, 10)"
      ]
     },
     "execution_count": 829,
     "metadata": {},
     "output_type": "execute_result"
    }
   ],
   "source": [
    "books_df.shape"
   ]
  },
  {
   "cell_type": "code",
   "execution_count": 830,
   "metadata": {},
   "outputs": [],
   "source": [
    "# Change the type of Pages column from object to integer\n",
    "def clean_pages (x):\n",
    "    try:\n",
    "        # Replace any character with empty string then change the type to integer\n",
    "        return int(re.sub('\\D','',x))\n",
    "    except:\n",
    "        return 0\n",
    "books_df.Pages = books_df.Pages.map(clean_pages)"
   ]
  },
  {
   "cell_type": "code",
   "execution_count": 831,
   "metadata": {},
   "outputs": [],
   "source": [
    "# Change the type of  Publication year column from object to integer\n",
    "\n",
    "def clean_years (x):\n",
    "    try:\n",
    "         # Replace months, days and any character with empty string then change the type to integer\n",
    "        return int(re.sub('^\\d{1,2}-\\d{1,2}-','',x))\n",
    "    except:\n",
    "        return 0\n",
    "books_df['Publication year'] = books_df['Publication year'].map(clean_years)"
   ]
  },
  {
   "cell_type": "code",
   "execution_count": 832,
   "metadata": {},
   "outputs": [
    {
     "data": {
      "text/plain": [
       "Title                object\n",
       "Author               object\n",
       "Description          object\n",
       "Pages                 int64\n",
       "Publication year      int64\n",
       "Publisher            object\n",
       "Cover                object\n",
       "Category             object\n",
       "Subcategory          object\n",
       "Price               float64\n",
       "dtype: object"
      ]
     },
     "execution_count": 832,
     "metadata": {},
     "output_type": "execute_result"
    }
   ],
   "source": [
    "# Check columns types\n",
    "books_df.dtypes"
   ]
  },
  {
   "cell_type": "code",
   "execution_count": 833,
   "metadata": {},
   "outputs": [],
   "source": [
    "# Save the dataframe as CSV format \n",
    "books_df.to_csv('jamalon dataset.csv')"
   ]
  },
  {
   "cell_type": "code",
   "execution_count": 834,
   "metadata": {},
   "outputs": [
    {
     "data": {
      "text/plain": [
       "(8986, 11)"
      ]
     },
     "execution_count": 834,
     "metadata": {},
     "output_type": "execute_result"
    }
   ],
   "source": [
    "# Check the dataFrame after saving \n",
    "pd.read_csv('jamalon dataset.csv').shape"
   ]
  },
  {
   "cell_type": "markdown",
   "metadata": {},
   "source": [
    "# EDA and visualization"
   ]
  },
  {
   "cell_type": "markdown",
   "metadata": {},
   "source": [
    "**How many books in each category?**"
   ]
  },
  {
   "cell_type": "code",
   "execution_count": 795,
   "metadata": {
    "scrolled": true
   },
   "outputs": [
    {
     "data": {
      "image/png": "[encoded data removed]",
      "text/plain": [
       "<Figure size 1296x576 with 1 Axes>"
      ]
     },
     "metadata": {
      "needs_background": "light"
     },
     "output_type": "display_data"
    }
   ],
   "source": [
    "# Count the books in each category\n",
    "indices = books_df.Category.value_counts().index\n",
    "count = books_df.Category.value_counts().values\n",
    "categories = []\n",
    "# Reshape categories Arabic names in readable shape  \n",
    "for cat in indices:\n",
    "    reshaped_text = arabic_reshaper.reshape(cat)\n",
    "    artext = get_display(reshaped_text)\n",
    "    categories.append(artext)\n",
    "plt.figure(figsize=(18,8))\n",
    "sns.barplot(x = categories, y=count)\n",
    "plt.title(\"\\nThe number of books in each category\\n\", fontdict={'fontsize':20})\n",
    "plt.xlabel('Categories',fontdict={'fontsize':20})\n",
    "plt.ylabel('Number of books',fontdict={'fontsize':20})\n",
    "plt.show()"
   ]
  },
  {
   "cell_type": "markdown",
   "metadata": {},
   "source": [
    "**Is there any relation between the number of pages in a book and its price?**"
   ]
  },
  {
   "cell_type": "code",
   "execution_count": 801,
   "metadata": {},
   "outputs": [
    {
     "data": {
      "image/png": "[encoded data removed]",
      "text/plain": [
       "<Figure size 576x432 with 1 Axes>"
      ]
     },
     "metadata": {
      "needs_background": "light"
     },
     "output_type": "display_data"
    }
   ],
   "source": [
    "x = books_df[~(books_df['Pages']==0)]['Pages']\n",
    "y =  books_df[~(books_df['Pages']==0)].Price\n",
    "plt.figure(figsize=(8,6))\n",
    "plt.scatter(x,y,c =y,  cmap='viridis', marker='*')\n",
    "plt.title(\"\\nThe relationship between number of pages and price\\n\", fontdict={'fontsize':15})\n",
    "plt.xlabel('The number of pages',fontdict={'fontsize':15})\n",
    "plt.ylabel('Price',fontdict={'fontsize':15})\n",
    "plt.show()\n"
   ]
  },
  {
   "cell_type": "markdown",
   "metadata": {},
   "source": [
    "**Check if there are any outliers in the numeric columns**"
   ]
  },
  {
   "cell_type": "code",
   "execution_count": 819,
   "metadata": {},
   "outputs": [
    {
     "data": {
      "image/png": "[encoded data removed]",
      "text/plain": [
       "<Figure size 1080x360 with 3 Axes>"
      ]
     },
     "metadata": {
      "needs_background": "light"
     },
     "output_type": "display_data"
    }
   ],
   "source": [
    "f, (ax1, ax2, ax3) = plt.subplots(1, 3)\n",
    "f.set_figheight(5)\n",
    "f.set_figwidth(15)\n",
    "ax1.boxplot(books_df.Price)\n",
    "ax1.set_xlabel(\"Price\", fontdict={'fontsize':15})\n",
    "ax2.boxplot(books_df[\"Publication year\"])\n",
    "ax2.set_xlabel(\"Publication year\", fontdict={'fontsize':15})\n",
    "ax3.boxplot(books_df.Pages)\n",
    "ax3.set_xlabel(\"Number of pages\", fontdict={'fontsize':15})\n",
    "plt.show()"
   ]
  },
  {
   "cell_type": "code",
   "execution_count": 772,
   "metadata": {},
   "outputs": [],
   "source": [
    "def correlation_heat_map(df):\n",
    "    corrs = df.corr()\n",
    "\n",
    "    # Set the default matplotlib figure size:\n",
    "    fig, ax = plt.subplots(figsize=(16,12))\n",
    "\n",
    "    # Generate a mask for the upper triangle (taken from the Seaborn example gallery):\n",
    "    mask = np.zeros_like(corrs, dtype=np.bool)\n",
    "    mask[np.triu_indices_from(mask)] = True\n",
    "\n",
    "    # Plot the heatmap with Seaborn.\n",
    "    # Assign the matplotlib axis the function returns. This allow us to resize the labels.\n",
    "    cmap = sns.diverging_palette(220, 10, as_cmap=True)\n",
    "    ax = sns.heatmap(corrs, mask=mask, annot=True, cmap=cmap, vmin=-1, vmax=1)\n",
    "\n",
    "    # Resize the labels.\n",
    "    ax.set_xticklabels(ax.xaxis.get_ticklabels(), fontsize=14, rotation=30)\n",
    "    ax.set_yticklabels(ax.yaxis.get_ticklabels(), fontsize=14, rotation=0)\n",
    "\n",
    "    # If you put plt.show() at the bottom, it prevents those useless printouts from matplotlib.\n",
    "    plt.title(\"\\nThe correlation between  dataset features\\n\", fontdict = {'fontsize':20})\n",
    "    plt.show()"
   ]
  },
  {
   "cell_type": "code",
   "execution_count": 773,
   "metadata": {},
   "outputs": [
    {
     "data": {
      "image/png": "[encoded data removed]",
      "text/plain": [
       "<Figure size 1152x864 with 2 Axes>"
      ]
     },
     "metadata": {
      "needs_background": "light"
     },
     "output_type": "display_data"
    }
   ],
   "source": [
    "correlation_heat_map(books_df)"
   ]
  }
 ],
 "metadata": {
  "kernelspec": {
   "display_name": "Python 3",
   "language": "python",
   "name": "python3"
  },
  "language_info": {
   "codemirror_mode": {
    "name": "ipython",
    "version": 3
   },
   "file_extension": ".py",
   "mimetype": "text/x-python",
   "name": "python",
   "nbconvert_exporter": "python",
   "pygments_lexer": "ipython3",
   "version": "3.7.3"
  }
 },
 "nbformat": 4,
 "nbformat_minor": 2
}
